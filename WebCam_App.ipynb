{
 "cells": [
  {
   "cell_type": "code",
   "execution_count": 7,
   "metadata": {
    "colab": {
     "base_uri": "https://localhost:8080/"
    },
    "executionInfo": {
     "elapsed": 48112,
     "status": "ok",
     "timestamp": 1619277356180,
     "user": {
      "displayName": "w1 w1",
      "photoUrl": "",
      "userId": "03110079306454677162"
     },
     "user_tz": -480
    },
    "id": "MfpZ1ufIcaC7",
    "outputId": "81159193-247f-4edd-830b-4f2a7452bc25"
   },
   "outputs": [
    {
     "name": "stdout",
     "output_type": "stream",
     "text": [
      "model loaded\n"
     ]
    }
   ],
   "source": [
    "import tensorflow as tf\n",
    "from tensorflow.keras.preprocessing import image\n",
    "import numpy as np\n",
    " \n",
    "#from google.colab import drive\n",
    "#drive.mount('/content/drive')\n",
    " \n",
    "datapath='/content/drive/MyDrive/'\n",
    "model = tf.keras.models.load_model(datapath)\n",
    "print(\"model loaded\")"
   ]
  },
  {
   "cell_type": "code",
   "execution_count": 8,
   "metadata": {
    "colab": {
     "base_uri": "https://localhost:8080/",
     "height": 852
    },
    "executionInfo": {
     "elapsed": 48107,
     "status": "ok",
     "timestamp": 1619277356182,
     "user": {
      "displayName": "w1 w1",
      "photoUrl": "",
      "userId": "03110079306454677162"
     },
     "user_tz": -480
    },
    "id": "foa7Tgf6cFbO",
    "outputId": "bc4c80bd-32fb-43db-bb67-3f7c9c5aac7c"
   },
   "outputs": [
    {
     "data": {
      "text/html": [
       "<div id=\"output\">\n",
       "  Result: <div id=\"result\"></div><br>\n",
       "  <video width=\"300\" height=\"300\" id=\"vdo\" style=\"display:block\"></video>\n",
       "</div>\n",
       "\n",
       "<script>\n",
       "  var video,stream;\n",
       "  (async function a(){\n",
       "    video = document.getElementById(\"vdo\");\n",
       "    stream = await navigator.mediaDevices.getUserMedia({video: true});\n",
       "    video.srcObject = stream;\n",
       "    video.play();\n",
       "  })();\n",
       "\n",
       "  async function takePhoto(quality) {\n",
       "    var canvas = document.createElement('canvas');\n",
       "    canvas.width = video.videoWidth;\n",
       "    canvas.height = video.videoHeight;\n",
       "    canvas.getContext('2d').drawImage(video, 0, 0);\n",
       "    // stream.getVideoTracks()[0].stop();\n",
       "    var data= canvas.toDataURL('image/jpeg', quality)\n",
       "\n",
       "    const result = await google.colab.kernel.invokeFunction(\n",
       "     'notebook.Predict', // The callback name.\n",
       "      [data], // The arguments.\n",
       "      {}); // kwargs\n",
       "    const text = result.data['application/json'];\n",
       "    document.querySelector(\"#result\").innerHTML=text.result;\n",
       "    setTimeout(function(){takePhoto(quality)},100);\n",
       "  }\n",
       "\n",
       "\n",
       "  takePhoto(0.8);\n",
       "</script>\n"
      ],
      "text/plain": [
       "<IPython.core.display.HTML object>"
      ]
     },
     "execution_count": 8,
     "metadata": {
      "tags": []
     },
     "output_type": "execute_result"
    }
   ],
   "source": [
    "from IPython.display import display, Javascript\n",
    "import IPython\n",
    "from google.colab.output import eval_js\n",
    "from google.colab import output\n",
    "from PIL import Image\n",
    "from skimage import transform\n",
    "from base64 import b64decode\n",
    "import time\n",
    "from io import BytesIO\n",
    "\n",
    "htm='''<div id=\"output\">\n",
    "  Result: <div id=\"result\"></div><br>\n",
    "  <video width=\"300\" height=\"300\" id=\"vdo\" style=\"display:block\"></video>\n",
    "</div>\n",
    "\n",
    "<script>\n",
    "  var video,stream;\n",
    "  (async function a(){\n",
    "    video = document.getElementById(\"vdo\");\n",
    "    stream = await navigator.mediaDevices.getUserMedia({video: true});\n",
    "    video.srcObject = stream;\n",
    "    video.play();\n",
    "  })();\n",
    "\n",
    "  async function takePhoto(quality) {\n",
    "    var canvas = document.createElement('canvas');\n",
    "    canvas.width = video.videoWidth;\n",
    "    canvas.height = video.videoHeight;\n",
    "    canvas.getContext('2d').drawImage(video, 0, 0);\n",
    "    // stream.getVideoTracks()[0].stop();\n",
    "    var data= canvas.toDataURL('image/jpeg', quality)\n",
    "\n",
    "    const result = await google.colab.kernel.invokeFunction(\n",
    "     'notebook.Predict', // The callback name.\n",
    "      [data], // The arguments.\n",
    "      {}); // kwargs\n",
    "    const text = result.data['application/json'];\n",
    "    document.querySelector(\"#result\").innerHTML=text.result;\n",
    "    setTimeout(function(){takePhoto(quality)},100);\n",
    "  }\n",
    "\n",
    "\n",
    "  takePhoto(0.8);\n",
    "</script>\n",
    "'''\n",
    "\n",
    "def Predict(data):\n",
    "  try:\n",
    "\n",
    "    LABELS=['Cardboard', 'Glass', 'Metal', 'Paper', 'Plastic', 'Trash']\n",
    "  #  binary = b64decode(data.split(',')[1])\n",
    "  #  filename=\"test.jpg\"\n",
    "  #  with open(filename, 'wb') as f:\n",
    "  #    f.write(binary)\n",
    "  #  image = load(filename)\n",
    "    np_image = Image.open(BytesIO(b64decode(data.split(',')[1])))\n",
    "    np_image = np.array(np_image).astype('float32')/255\n",
    "    np_image = transform.resize(np_image, (299, 299, 3))\n",
    "    np_image = np.expand_dims(np_image, axis=0)\n",
    "    a=model.predict(np_image)\n",
    "    b=np.argmax(a,axis=1)[0]\n",
    "    return IPython.display.JSON({'result': LABELS[b]+\"<br><img src='\"+data+\"'>\"})\n",
    "  except Exception as err:\n",
    "    return IPython.display.JSON({'result': '[ERROR]'+str(err)})\n",
    "\n",
    "output.register_callback('notebook.Predict', Predict)\n",
    "\n",
    "IPython.display.HTML(htm)\n"
   ]
  }
 ],
 "metadata": {
  "colab": {
   "authorship_tag": "ABX9TyOGHK36DaYz2f/5WvqTcph7",
   "collapsed_sections": [],
   "mount_file_id": "1hEbcIKGaDUFgEsaWMivfUaKhJyOGr7rb",
   "name": "Untitled1.ipynb",
   "provenance": []
  },
  "kernelspec": {
   "display_name": "Python 3",
   "language": "python",
   "name": "python3"
  },
  "language_info": {
   "codemirror_mode": {
    "name": "ipython",
    "version": 3
   },
   "file_extension": ".py",
   "mimetype": "text/x-python",
   "name": "python",
   "nbconvert_exporter": "python",
   "pygments_lexer": "ipython3",
   "version": "3.9.2"
  }
 },
 "nbformat": 4,
 "nbformat_minor": 4
}
